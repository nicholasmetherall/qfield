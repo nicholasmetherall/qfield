{
 "cells": [
  {
   "cell_type": "code",
   "execution_count": null,
   "metadata": {},
   "outputs": [],
   "source": [
    "import odc.geo  # noqa: F401\n",
    "from dep_tools.azure import get_container_client, list_blob_container\n",
    "from odc.stac import load\n",
    "from pystac import Item"
   ]
  },
  {
   "cell_type": "code",
   "execution_count": null,
   "metadata": {},
   "outputs": [],
   "source": [
    "client = get_container_client()\n",
    "lazy_docs = list_blob_container(client, prefix='dep_ls_geomad/0-0-1/', suffix='.json')"
   ]
  },
  {
   "cell_type": "code",
   "execution_count": null,
   "metadata": {},
   "outputs": [],
   "source": [
    "docs = [d for d in lazy_docs]\n",
    "print(f\"Found {len(docs)} documents\")"
   ]
  },
  {
   "cell_type": "code",
   "execution_count": null,
   "metadata": {},
   "outputs": [],
   "source": [
    "base_url = \"https://deppcpublicstorage.blob.core.windows.net/output/{key}\"\n",
    "items = [Item.from_file(base_url.format(key=d)) for d in docs]"
   ]
  },
  {
   "cell_type": "code",
   "execution_count": null,
   "metadata": {},
   "outputs": [],
   "source": [
    "data = load(items, chunks={}, resolution=30, crs=\"epsg:3832\")\n",
    "data"
   ]
  },
  {
   "cell_type": "code",
   "execution_count": null,
   "metadata": {},
   "outputs": [],
   "source": [
    "rgba = data.odc.to_rgba(vmin=7000, vmax=12000)\n",
    "rgba"
   ]
  },
  {
   "cell_type": "code",
   "execution_count": null,
   "metadata": {},
   "outputs": [],
   "source": [
    "rgba.squeeze().odc.write_cog(\"fiji_rgba_3832.tif\", overwrite=True)"
   ]
  },
  {
   "cell_type": "code",
   "execution_count": null,
   "metadata": {},
   "outputs": [],
   "source": [
    "# Writing to Azure\n",
    "data = rgba.squeeze().odc.to_cog()\n",
    "blob_thing = client.get_blob_client(\"output/dep_ls_geomad/0-0-0/fiji_rgb_30m.tif\")"
   ]
  }
 ],
 "metadata": {
  "kernelspec": {
   "display_name": "Python 3",
   "language": "python",
   "name": "python3"
  },
  "language_info": {
   "codemirror_mode": {
    "name": "ipython",
    "version": 3
   },
   "file_extension": ".py",
   "mimetype": "text/x-python",
   "name": "python",
   "nbconvert_exporter": "python",
   "pygments_lexer": "ipython3",
   "version": "3.11.5"
  },
  "orig_nbformat": 4
 },
 "nbformat": 4,
 "nbformat_minor": 2
}
