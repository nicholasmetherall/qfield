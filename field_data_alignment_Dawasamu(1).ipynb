{
 "cells": [
  {
   "cell_type": "markdown",
   "id": "f5c0e422-2168-4849-8bb0-93f4762ae14f",
   "metadata": {},
   "source": [
    "![Digital Earth Pacific](../dep.png)"
   ]
  },
  {
   "cell_type": "markdown",
   "id": "8d41c56e-4b5d-4ad1-a2e8-87396c92b16e",
   "metadata": {
    "tags": []
   },
   "source": [
    "### Tonga LULC Field Data Alignment and Cleanup across Multiple Surveys"
   ]
  },
  {
   "cell_type": "code",
   "execution_count": 5,
   "id": "3da69b02-af57-4608-ab70-694844d25839",
   "metadata": {
    "tags": []
   },
   "outputs": [],
   "source": [
    "import depal as dep"
   ]
  },
  {
   "cell_type": "code",
   "execution_count": 6,
   "id": "a3525672-bb12-4fcb-acc8-bb5dd68b4581",
   "metadata": {
    "tags": []
   },
   "outputs": [],
   "source": [
    "import os\n",
    "import sys\n",
    "sys.path.insert(0, '..')\n",
    "import depal as dep\n",
    "import geopandas as gpd\n",
    "import numpy as np\n",
    "import pandas as pd\n",
    "import warnings\n",
    "warnings.filterwarnings('ignore')"
   ]
  },
  {
   "cell_type": "code",
   "execution_count": 7,
   "id": "b51facfd-6371-41fe-a69b-b218555a4401",
   "metadata": {
    "tags": []
   },
   "outputs": [
    {
     "name": "stdout",
     "output_type": "stream",
     "text": [
      "Initiating DEPAL...\n",
      "<Client: 'tcp://127.0.0.1:45087' processes=4 threads=8, memory=32.00 GiB>\n",
      "/user/nicholasm@spc.int/proxy/41141/status\n"
     ]
    }
   ],
   "source": [
    "dep.init()"
   ]
  },
  {
   "cell_type": "markdown",
   "id": "11caff95-f611-49a4-93e4-4137962721ba",
   "metadata": {},
   "source": [
    "#### Load Both Surveys"
   ]
  },
  {
   "cell_type": "markdown",
   "id": "57cbbb83-e6c4-4995-95c7-11282a26c939",
   "metadata": {},
   "source": [
    "Your code goes in the cells below. Add more cells here by clicking on the + button above."
   ]
  },
  {
   "cell_type": "code",
   "execution_count": 8,
   "id": "6060bd4b-642c-4a25-bccc-838101a51838",
   "metadata": {
    "tags": []
   },
   "outputs": [],
   "source": [
    "gdf1 = gpd.read_file(\"lulc_dawasamu_trainingdata.geojson\")"
   ]
  },
  {
   "cell_type": "markdown",
   "id": "c7e99bca-003f-4fd6-b396-02d8942d4214",
   "metadata": {},
   "source": [
    "#### Cleanup and Merge"
   ]
  },
  {
   "cell_type": "code",
   "execution_count": null,
   "id": "e8eea2df-9a40-4a4e-81e5-13f5d98ecb83",
   "metadata": {
    "tags": []
   },
   "outputs": [],
   "source": []
  },
  {
   "cell_type": "code",
   "execution_count": 9,
   "id": "4689e7be-3477-4a7d-ad14-de2af2c777c4",
   "metadata": {
    "tags": []
   },
   "outputs": [],
   "source": [
    "gdf3 = pd.concat([gdf1])"
   ]
  },
  {
   "cell_type": "code",
   "execution_count": 11,
   "id": "bb7af2b0-f2de-4321-80f8-80c0b5fbee90",
   "metadata": {
    "tags": []
   },
   "outputs": [],
   "source": [
    "gdf = gdf3[['lulc_class', 'geometry']]\n",
    "gdf = gdf[gdf.lulc_class != \"\"]"
   ]
  },
  {
   "cell_type": "code",
   "execution_count": 12,
   "id": "6672c704-ee04-4bd6-8cb8-2640ecbd7b3e",
   "metadata": {
    "tags": []
   },
   "outputs": [
    {
     "data": {
      "text/plain": [
       "465"
      ]
     },
     "execution_count": 12,
     "metadata": {},
     "output_type": "execute_result"
    }
   ],
   "source": [
    "len(gdf)"
   ]
  },
  {
   "cell_type": "code",
   "execution_count": 13,
   "id": "a55cc7ec-0fe8-48ae-8dbf-36458f850440",
   "metadata": {
    "tags": []
   },
   "outputs": [
    {
     "data": {
      "text/html": [
       "<div>\n",
       "<style scoped>\n",
       "    .dataframe tbody tr th:only-of-type {\n",
       "        vertical-align: middle;\n",
       "    }\n",
       "\n",
       "    .dataframe tbody tr th {\n",
       "        vertical-align: top;\n",
       "    }\n",
       "\n",
       "    .dataframe thead th {\n",
       "        text-align: right;\n",
       "    }\n",
       "</style>\n",
       "<table border=\"1\" class=\"dataframe\">\n",
       "  <thead>\n",
       "    <tr style=\"text-align: right;\">\n",
       "      <th></th>\n",
       "      <th>0</th>\n",
       "      <th>1</th>\n",
       "    </tr>\n",
       "  </thead>\n",
       "  <tbody>\n",
       "    <tr>\n",
       "      <th>0</th>\n",
       "      <td>bare_land</td>\n",
       "      <td>171</td>\n",
       "    </tr>\n",
       "    <tr>\n",
       "      <th>1</th>\n",
       "      <td>water</td>\n",
       "      <td>86</td>\n",
       "    </tr>\n",
       "    <tr>\n",
       "      <th>2</th>\n",
       "      <td>vegetation</td>\n",
       "      <td>80</td>\n",
       "    </tr>\n",
       "    <tr>\n",
       "      <th>3</th>\n",
       "      <td>settlements</td>\n",
       "      <td>55</td>\n",
       "    </tr>\n",
       "    <tr>\n",
       "      <th>4</th>\n",
       "      <td>stockpiles</td>\n",
       "      <td>51</td>\n",
       "    </tr>\n",
       "    <tr>\n",
       "      <th>5</th>\n",
       "      <td>turbid_water</td>\n",
       "      <td>22</td>\n",
       "    </tr>\n",
       "  </tbody>\n",
       "</table>\n",
       "</div>"
      ],
      "text/plain": [
       "              0    1\n",
       "0     bare_land  171\n",
       "1         water   86\n",
       "2    vegetation   80\n",
       "3   settlements   55\n",
       "4    stockpiles   51\n",
       "5  turbid_water   22"
      ]
     },
     "execution_count": 13,
     "metadata": {},
     "output_type": "execute_result"
    }
   ],
   "source": [
    "summary = gdf.lulc_class.value_counts()\n",
    "pd.DataFrame(summary.items())"
   ]
  },
  {
   "cell_type": "markdown",
   "id": "d39e283b-5e80-409a-88e6-fb9d1bfcbe40",
   "metadata": {},
   "source": [
    "#### Alignment (Change Composition of Classes Here)"
   ]
  },
  {
   "cell_type": "markdown",
   "id": "981240d6-264e-4ca7-a3ca-da3b623bb16d",
   "metadata": {},
   "source": [
    "Baseline Identified Classes:\n",
    "\n",
    "- Settlements\n",
    "- Forest_Land (Natural, Plantation)\n",
    "- Grass_Shrub_Land\n",
    "- Crop_Land_Vegetation\n",
    "- Bare_Burnt_Land\n",
    "- Sand\n",
    "- Wetland_Mangroves\n",
    "- Agro_Forestry (Trees, Crops, Pasture, Coconuts)\n",
    "- Roads\n",
    "- Mining_Quarry"
   ]
  },
  {
   "cell_type": "code",
   "execution_count": 24,
   "id": "3c68400f-5df2-478f-a748-132811297ec1",
   "metadata": {
    "tags": []
   },
   "outputs": [],
   "source": [
    "#Settlements\n",
    "gdf.loc[gdf['LULC'] == 'Infrastructure', 'LULC'] = 'Settlements'\n",
    "gdf.loc[gdf['LULC'] == 'Solar_panels', 'LULC'] = 'Settlements'\n",
    "\n",
    "#Forest_Land (Agro, Natural, Plantation)\n",
    "gdf.loc[gdf['LULC'] == 'Forest_land', 'LULC'] = 'Forest_Land'\n",
    "gdf.loc[gdf['LULC'] == 'Low_density_forest_palm', 'LULC'] = 'Forest_Land'\n",
    "gdf.loc[gdf['LULC'] == 'Natural_scattered_forest', 'LULC'] = 'Forest_Land'\n",
    "gdf.loc[gdf['LULC'] == 'Natural_Dense_forest', 'LULC'] = 'Forest_Land'\n",
    "gdf.loc[gdf['LULC'] == 'Agroforestry_coconuts', 'LULC'] = 'Forest_Land'\n",
    "gdf.loc[gdf['LULC'] == 'Agroforestry', 'LULC'] = 'Forest_Land'\n",
    "gdf.loc[gdf['LULC'] == 'Hardwood_tree_species', 'LULC'] = 'Forest_Land'\n",
    "gdf.loc[gdf['LULC'] == 'Softwood_tree_species', 'LULC'] = 'Forest_Land'\n",
    "gdf.loc[gdf['LULC'] == 'Integrated_Livestock_Agriculture', 'LULC'] = 'Forest_Land'\n",
    "\n",
    "#Crop_Land_Vegetation\n",
    "gdf.loc[gdf['LULC'] == 'Vegetation', 'LULC'] = 'Crop_Land_Vegetation'\n",
    "gdf.loc[gdf['LULC'] == 'Cropland', 'LULC'] = 'Crop_Land_Vegetation'\n",
    "gdf.loc[gdf['LULC'] == 'Monocropping', 'LULC'] = 'Crop_Land_Vegetation'\n",
    "gdf.loc[gdf['LULC'] == 'Mixed_cropping', 'LULC'] = 'Crop_Land_Vegetation'\n",
    "gdf.loc[gdf['LULC'] == 'Cropland_Agriculture', 'LULC'] = 'Crop_Land_Vegetation'\n",
    "gdf.loc[gdf['LULC'] == 'Weeds', 'LULC'] = 'Crop_Land_Vegetation'\n",
    "\n",
    "#Grass_Shrub_Land\n",
    "gdf.loc[gdf['LULC'] == 'Shrubs', 'LULC'] = 'Grass_Shrub_Land'\n",
    "gdf.loc[gdf['LULC'] == 'Grassland', 'LULC'] = 'Grass_Shrub_Land'\n",
    "gdf.loc[gdf['LULC'] == 'Shrubland', 'LULC'] = 'Grass_Shrub_Land'\n",
    "gdf.loc[gdf['LULC'] == 'Lawn_grass', 'LULC'] = 'Grass_Shrub_Land'\n",
    "gdf.loc[gdf['LULC'] == 'Natural_Shrubs', 'LULC'] = 'Grass_Shrub_Land'\n",
    "gdf.loc[gdf['LULC'] == 'Grazing_land', 'LULC'] = 'Grass_Shrub_Land'\n",
    "gdf.loc[gdf['LULC'] == 'Pasture_land', 'LULC'] = 'Grass_Shrub_Land'\n",
    "\n",
    "#Wetland_Mangroves\n",
    "gdf.loc[gdf['LULC'] == 'Mangroves', 'LULC'] = 'Wetland_Mangroves'\n",
    "gdf.loc[gdf['LULC'] == 'Wetland', 'LULC'] = 'Wetland_Mangroves'\n",
    "gdf.loc[gdf['LULC'] == 'Mudflats', 'LULC'] = 'Wetland_Mangroves'\n",
    "#gdf.loc[gdf['LULC'] == 'Shallow_ocean', 'LULC'] = 'Wetland_Mangroves'\n",
    "\n",
    "#Bare_Burnt_Land\n",
    "gdf.loc[gdf['LULC'] == 'Bare_land', 'LULC'] = 'Bare_Burnt_Land'\n",
    "gdf.loc[gdf['LULC'] == 'Burned_land', 'LULC'] = 'Bare_Burnt_Land'\n",
    "\n",
    "#Roads\n",
    "gdf.loc[gdf['LULC'] == 'Roads_paved', 'LULC'] = 'Roads'\n",
    "gdf.loc[gdf['LULC'] == 'Roads_unpaved', 'LULC'] = 'Roads'\n",
    "\n",
    "#Mining\n",
    "gdf.loc[gdf['LULC'] == 'Rock', 'LULC'] = 'Mining'\n",
    "gdf.loc[gdf['LULC'] == 'Quarry', 'LULC'] = 'Mining'\n",
    "gdf.loc[gdf['LULC'] == 'Mining areas', 'LULC'] = 'Mining'\n",
    "gdf.loc[gdf['LULC'] == 'Active_mining', 'LULC'] = 'Mining'\n",
    "gdf.loc[gdf['LULC'] == 'Closed_abandoned_mining', 'LULC'] = 'Mining'"
   ]
  },
  {
   "cell_type": "markdown",
   "id": "f5723cc5-1303-48ed-bcd5-fc814774cd93",
   "metadata": {
    "tags": []
   },
   "source": [
    "#### Remove classes of smaller sample sizes"
   ]
  },
  {
   "cell_type": "code",
   "execution_count": 25,
   "id": "07462dbe-4bb4-42aa-ab88-5e6e1ad9f943",
   "metadata": {
    "tags": []
   },
   "outputs": [],
   "source": [
    "#Remove smaller sample size\n",
    "remove_list = ['Shallow_ocean', 'Coral_reef', 'Seagrass', 'Deep_ocean', 'Seagrasses', 'Aquaculture', 'Invasive_species', 'Climbing_vines', 'Surface_water', 'Seaweed', 'Roads']\n",
    "for r in remove_list:\n",
    "    gdf = gdf[gdf[\"LULC\"] != r]"
   ]
  },
  {
   "cell_type": "markdown",
   "id": "d90e4fe6-d86e-4c85-9b66-0771e6500f19",
   "metadata": {},
   "source": [
    "#### Codify Class Codes"
   ]
  },
  {
   "cell_type": "code",
   "execution_count": 14,
   "id": "1c0df601-f271-4372-960f-480f1c0e02ad",
   "metadata": {
    "tags": []
   },
   "outputs": [],
   "source": [
    "class_list = list(gdf.lulc_class.unique())\n",
    "\n",
    "gdf['code'] = 0\n",
    "code = 1\n",
    "for c in class_list:\n",
    "    gdf.loc[gdf['lulc_class'] == c, 'code'] = code\n",
    "    code = code + 1   "
   ]
  },
  {
   "cell_type": "markdown",
   "id": "400ca07b-e4e8-4acf-b7b6-fdc55b6d13ab",
   "metadata": {},
   "source": [
    "#### Summarise"
   ]
  },
  {
   "cell_type": "code",
   "execution_count": 15,
   "id": "49803925-d27f-429e-b8fb-64a511ffa6d9",
   "metadata": {
    "tags": []
   },
   "outputs": [
    {
     "data": {
      "text/html": [
       "<div>\n",
       "<style scoped>\n",
       "    .dataframe tbody tr th:only-of-type {\n",
       "        vertical-align: middle;\n",
       "    }\n",
       "\n",
       "    .dataframe tbody tr th {\n",
       "        vertical-align: top;\n",
       "    }\n",
       "\n",
       "    .dataframe thead th {\n",
       "        text-align: right;\n",
       "    }\n",
       "</style>\n",
       "<table border=\"1\" class=\"dataframe\">\n",
       "  <thead>\n",
       "    <tr style=\"text-align: right;\">\n",
       "      <th></th>\n",
       "      <th>0</th>\n",
       "      <th>1</th>\n",
       "    </tr>\n",
       "  </thead>\n",
       "  <tbody>\n",
       "    <tr>\n",
       "      <th>0</th>\n",
       "      <td>bare_land</td>\n",
       "      <td>171</td>\n",
       "    </tr>\n",
       "    <tr>\n",
       "      <th>1</th>\n",
       "      <td>water</td>\n",
       "      <td>86</td>\n",
       "    </tr>\n",
       "    <tr>\n",
       "      <th>2</th>\n",
       "      <td>vegetation</td>\n",
       "      <td>80</td>\n",
       "    </tr>\n",
       "    <tr>\n",
       "      <th>3</th>\n",
       "      <td>settlements</td>\n",
       "      <td>55</td>\n",
       "    </tr>\n",
       "    <tr>\n",
       "      <th>4</th>\n",
       "      <td>stockpiles</td>\n",
       "      <td>51</td>\n",
       "    </tr>\n",
       "    <tr>\n",
       "      <th>5</th>\n",
       "      <td>turbid_water</td>\n",
       "      <td>22</td>\n",
       "    </tr>\n",
       "  </tbody>\n",
       "</table>\n",
       "</div>"
      ],
      "text/plain": [
       "              0    1\n",
       "0     bare_land  171\n",
       "1         water   86\n",
       "2    vegetation   80\n",
       "3   settlements   55\n",
       "4    stockpiles   51\n",
       "5  turbid_water   22"
      ]
     },
     "execution_count": 15,
     "metadata": {},
     "output_type": "execute_result"
    }
   ],
   "source": [
    "summary = gdf.lulc_class.value_counts()\n",
    "pd.DataFrame(summary.items())"
   ]
  },
  {
   "cell_type": "code",
   "execution_count": 16,
   "id": "9bc4c9ce-4d8a-4bc1-b168-27d9670e7e91",
   "metadata": {
    "tags": []
   },
   "outputs": [
    {
     "data": {
      "text/plain": [
       "465"
      ]
     },
     "execution_count": 16,
     "metadata": {},
     "output_type": "execute_result"
    }
   ],
   "source": [
    "len(gdf)"
   ]
  },
  {
   "cell_type": "markdown",
   "id": "be237ab9-26e7-4e26-bb52-cd9e01f7a182",
   "metadata": {},
   "source": [
    "#### Save output for Machine Learning Process"
   ]
  },
  {
   "cell_type": "code",
   "execution_count": 19,
   "id": "4917192f-3703-4f39-b7c0-07b668fb767c",
   "metadata": {
    "tags": []
   },
   "outputs": [],
   "source": [
    "gdf.to_file(\"lulc_dawasamu_final_trainingdata.gpkg\", layer='lulc_class', driver=\"GPKG\", overwrite=True)"
   ]
  },
  {
   "cell_type": "code",
   "execution_count": 18,
   "id": "d8133612-c5bc-4aa7-893a-1ac14dedd597",
   "metadata": {
    "tags": []
   },
   "outputs": [],
   "source": [
    "dep.cleanup()"
   ]
  },
  {
   "cell_type": "code",
   "execution_count": null,
   "id": "a21c4e46-1820-400e-ae62-ebedf8e7bd09",
   "metadata": {},
   "outputs": [],
   "source": []
  }
 ],
 "metadata": {
  "kernelspec": {
   "display_name": "Python 3 (ipykernel)",
   "language": "python",
   "name": "python3"
  },
  "language_info": {
   "codemirror_mode": {
    "name": "ipython",
    "version": 3
   },
   "file_extension": ".py",
   "mimetype": "text/x-python",
   "name": "python",
   "nbconvert_exporter": "python",
   "pygments_lexer": "ipython3",
   "version": "3.11.4"
  }
 },
 "nbformat": 4,
 "nbformat_minor": 5
}
